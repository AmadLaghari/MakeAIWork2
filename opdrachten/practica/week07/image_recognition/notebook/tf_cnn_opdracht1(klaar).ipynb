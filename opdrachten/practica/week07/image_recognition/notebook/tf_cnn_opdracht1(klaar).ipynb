{
 "cells": [
  {
   "cell_type": "markdown",
   "id": "818a1af7-9708-4bae-92fe-fa36b678d2be",
   "metadata": {},
   "source": [
    "<a href=\"https://it-omscholing.nl/locaties/hogeschool-rotterdam/\">\n",
    "<div>\n",
    "<a><img src='pics/banner.PNG'/></a>\n",
    "</div>\n",
    "<div>\n",
    "<a href=''><img src='pics/miw.PNG'/></a>\n",
    "<em>Author: Jeroen Boogaard</em>\n",
    "</div>\n",
    "</a>"
   ]
  },
  {
   "cell_type": "markdown",
   "id": "a9ff9227-1da2-489e-a4b4-d661d44ce68f",
   "metadata": {},
   "source": [
    "<h1>Practicum Computer Vision</h1>"
   ]
  },
  {
   "cell_type": "markdown",
   "id": "7d395107",
   "metadata": {},
   "source": [
    "<h2>Imports<h2>"
   ]
  },
  {
   "cell_type": "code",
   "execution_count": 71,
   "id": "84d02a33",
   "metadata": {},
   "outputs": [],
   "source": [
    "from PIL import Image\n",
    "import io\n",
    "import matplotlib.pyplot as plt\n",
    "import matplotlib.image as mpimg\n",
    "import numpy as np\n",
    "import os\n",
    "from sklearn.model_selection import train_test_split\n",
    "import random\n",
    "import requests\n",
    "import tensorflow as tf\n",
    "import tensorflow.keras as keras\n",
    "from tensorflow.keras import layers\n",
    "import zipfile"
   ]
  },
  {
   "cell_type": "markdown",
   "id": "72042f70-16c5-4a1a-a753-fc468bbe1a6a",
   "metadata": {},
   "source": [
    "**Gebruik een <i>environment variable</i> voor het instellen van het logleven van TensorFlow**"
   ]
  },
  {
   "cell_type": "code",
   "execution_count": 72,
   "id": "86e675b9-244c-45c8-9c91-79146b304a02",
   "metadata": {},
   "outputs": [],
   "source": [
    "os.environ['TF_CPP_MIN_LEVEL'] = '2'"
   ]
  },
  {
   "cell_type": "markdown",
   "id": "51aae3d0-f644-4552-870c-029b41f24559",
   "metadata": {},
   "source": [
    "<h2>Data Collection</h2>"
   ]
  },
  {
   "cell_type": "markdown",
   "id": "170099a3-4baf-4d2b-9ee2-ba934e368432",
   "metadata": {},
   "source": [
    "<h3>Data downloaden</h3>"
   ]
  },
  {
   "cell_type": "code",
   "execution_count": 73,
   "id": "57eb7d80-bfc1-4774-a635-fc28b2742aa0",
   "metadata": {},
   "outputs": [],
   "source": [
    "dataUrl = requests.get(\"http://madm.dfki.de/files/sentinel/EuroSAT.zip\")\n",
    "dataFile = zipfile.ZipFile(io.BytesIO(dataUrl.content))"
   ]
  },
  {
   "cell_type": "code",
   "execution_count": 74,
   "id": "c652271d-7f13-493e-a14e-d70a21e2de39",
   "metadata": {},
   "outputs": [],
   "source": [
    "# get file names\n",
    "txtFiles = list()\n",
    "\n",
    "for txtFile in dataFile.namelist():\n",
    "    txtFiles.append(txtFile)\n",
    "    # print(txtFile)"
   ]
  },
  {
   "cell_type": "markdown",
   "id": "c878858c-a5c8-4c52-b093-13b46ae78b7d",
   "metadata": {},
   "source": [
    "<h3>Data filteren</h3>"
   ]
  },
  {
   "cell_type": "code",
   "execution_count": 75,
   "id": "984a8cee-ab24-4880-af6c-168f7de17a9c",
   "metadata": {},
   "outputs": [],
   "source": [
    "txtFiles = [x for x in txtFiles if \".jpg\" in x]"
   ]
  },
  {
   "cell_type": "markdown",
   "id": "ddfc7256-6b34-42c4-a97b-3f151a8ed0fa",
   "metadata": {},
   "source": [
    "<h3>Data inlezen</h3>"
   ]
  },
  {
   "cell_type": "code",
   "execution_count": 76,
   "id": "eef4608d-3ea2-4e55-9b1f-d0d9906447b4",
   "metadata": {},
   "outputs": [
    {
     "name": "stdout",
     "output_type": "stream",
     "text": [
      "[[[0.21176471 0.29803922 0.35294118]\n",
      "  [0.21176471 0.29803922 0.35294118]\n",
      "  [0.18823529 0.2627451  0.32941176]\n",
      "  ...\n",
      "  [0.32941176 0.36470588 0.39215686]\n",
      "  [0.21960784 0.30980392 0.33333333]\n",
      "  [0.18823529 0.30196078 0.3254902 ]]\n",
      "\n",
      " [[0.21960784 0.29019608 0.34509804]\n",
      "  [0.22352941 0.29411765 0.34901961]\n",
      "  [0.18823529 0.2627451  0.32156863]\n",
      "  ...\n",
      "  [0.31764706 0.36862745 0.4       ]\n",
      "  [0.21568627 0.31372549 0.33333333]\n",
      "  [0.18823529 0.30196078 0.3254902 ]]\n",
      "\n",
      " [[0.30196078 0.35294118 0.38823529]\n",
      "  [0.29803922 0.35294118 0.38823529]\n",
      "  [0.25490196 0.31764706 0.36862745]\n",
      "  ...\n",
      "  [0.23137255 0.32156863 0.34509804]\n",
      "  [0.2        0.30588235 0.33333333]\n",
      "  [0.19215686 0.30980392 0.34117647]]\n",
      "\n",
      " ...\n",
      "\n",
      " [[0.21568627 0.30588235 0.32941176]\n",
      "  [0.21568627 0.30588235 0.32941176]\n",
      "  [0.22745098 0.31764706 0.34117647]\n",
      "  ...\n",
      "  [0.28235294 0.36078431 0.36470588]\n",
      "  [0.34509804 0.4        0.40392157]\n",
      "  [0.32156863 0.36862745 0.36862745]]\n",
      "\n",
      " [[0.23529412 0.33333333 0.34901961]\n",
      "  [0.23529412 0.33333333 0.34901961]\n",
      "  [0.23529412 0.33333333 0.35294118]\n",
      "  ...\n",
      "  [0.27843137 0.35686275 0.36078431]\n",
      "  [0.32941176 0.38431373 0.38823529]\n",
      "  [0.38823529 0.42745098 0.43137255]]\n",
      "\n",
      " [[0.23921569 0.34117647 0.34509804]\n",
      "  [0.23921569 0.34117647 0.34509804]\n",
      "  [0.21568627 0.3254902  0.34117647]\n",
      "  ...\n",
      "  [0.24705882 0.3254902  0.32156863]\n",
      "  [0.26666667 0.32156863 0.3254902 ]\n",
      "  [0.35294118 0.39215686 0.39607843]]]\n"
     ]
    }
   ],
   "source": [
    "imageObjects = np.zeros([len(txtFiles), 64, 64, 3])\n",
    "\n",
    "i = 0\n",
    "\n",
    "for pic in txtFiles:\n",
    "    imageObjects[i] = np.asarray(Image.open(dataFile.open(pic))).astype('uint8')/255\n",
    "    i += 1\n",
    "    \n",
    "print(imageObjects[0])    "
   ]
  },
  {
   "cell_type": "markdown",
   "id": "abc16b74-8f84-4256-9012-1e05669f1f54",
   "metadata": {},
   "source": [
    "**Gebruik de bestandsnamen voor het verkrijgen van de labels**"
   ]
  },
  {
   "cell_type": "code",
   "execution_count": 77,
   "id": "d7fb9377-3287-4aca-8539-9d564c3bd5c9",
   "metadata": {},
   "outputs": [
    {
     "name": "stdout",
     "output_type": "stream",
     "text": [
      "River\n",
      "27000\n"
     ]
    }
   ],
   "source": [
    "imageLabels = np.empty(len(txtFiles), dtype = 'S20')\n",
    "\n",
    "i = 0\n",
    "\n",
    "for label in txtFiles:\n",
    "    txtFiles[i] = label.split('/')[1]\n",
    "    i += 1\n",
    "    \n",
    "print(txtFiles[1])    \n",
    "print(len(imageLabels))"
   ]
  },
  {
   "cell_type": "code",
   "execution_count": 81,
   "id": "6c6fdb90-bf3a-4569-a475-2e94b0c5bdd8",
   "metadata": {},
   "outputs": [
    {
     "name": "stdout",
     "output_type": "stream",
     "text": [
      "labelNumbers [8 8 8 ... 6 6 6]\n",
      "LabelNumbers Length 27000\n",
      "imageObjects 27000\n"
     ]
    },
    {
     "data": {
      "text/plain": [
       "array([[   0, 3000],\n",
       "       [   1, 3000],\n",
       "       [   2, 3000],\n",
       "       [   3, 2500],\n",
       "       [   4, 2500],\n",
       "       [   5, 2000],\n",
       "       [   6, 2500],\n",
       "       [   7, 3000],\n",
       "       [   8, 2500],\n",
       "       [   9, 3000]], dtype=int64)"
      ]
     },
     "execution_count": 81,
     "metadata": {},
     "output_type": "execute_result"
    }
   ],
   "source": [
    "# change them to integers in alphabetical order\n",
    "labelNames, labelNumbers = np.unique(txtFiles, return_inverse=True)\n",
    "labelDict = dict(zip(np.unique(labelNumbers), labelNames))\n",
    "# print(labelNames)\n",
    "print(\"labelNumbers\", labelNumbers)\n",
    "print(\"LabelNumbers Length\", len(labelNumbers))\n",
    "\n",
    "\n",
    "print(\"imageObjects\", len(imageObjects))\n",
    "\n",
    "np.array(np.unique(labelNumbers, return_counts=True)).T"
   ]
  },
  {
   "cell_type": "markdown",
   "id": "9af14b2c-47b2-4256-9f22-715218d60b74",
   "metadata": {},
   "source": [
    "<h3>Data splitten</h3>"
   ]
  },
  {
   "cell_type": "code",
   "execution_count": 82,
   "id": "ef3d2e75-c904-44f7-b764-618226c22dae",
   "metadata": {},
   "outputs": [
    {
     "name": "stdout",
     "output_type": "stream",
     "text": [
      "(20250, 64, 64, 3)\n",
      "20250 6750 20250 6750\n"
     ]
    }
   ],
   "source": [
    "trainSet, testSet, trainLabels, testLabels = train_test_split(imageObjects, labelNumbers, stratify = labelNumbers, train_size = 0.75, random_state=42)\n",
    "print(trainSet.shape)\n",
    "nrOfImages = len(trainSet)\n",
    "\n",
    "print (len(trainSet), len(testSet),len(trainLabels), len(testLabels))"
   ]
  },
  {
   "cell_type": "code",
   "execution_count": null,
   "id": "6a005769-3d25-4ab2-8c70-08a726f0bc23",
   "metadata": {},
   "outputs": [],
   "source": []
  },
  {
   "cell_type": "markdown",
   "id": "11669120-c3b7-4d62-8e61-e3858002d973",
   "metadata": {},
   "source": [
    "<h3>Data inspecteren</h3>"
   ]
  },
  {
   "cell_type": "code",
   "execution_count": null,
   "id": "c5e3ce52-c40f-4225-8925-4f56df9b2cb5",
   "metadata": {},
   "outputs": [],
   "source": [
    "def inspectData():\n",
    "    \n",
    "    plt.figure(figsize=(10,10))\n",
    "    \n",
    "    for i in range(16):\n",
    "        plt.subplot(4, 4, i+1)\n",
    "        plt.xticks([])\n",
    "        plt.yticks([])\n",
    "        plt.grid(False)\n",
    "        number = i\n",
    "        plt.imshow(trainSet[number])\n",
    "        plt.xlabel(labelNames[trainLabels[number]]) \n",
    "    \n",
    "    plt.show()"
   ]
  },
  {
   "cell_type": "code",
   "execution_count": null,
   "id": "4618bb10-dbf4-4167-afd8-581c4e10f613",
   "metadata": {},
   "outputs": [],
   "source": [
    "inspectData()    "
   ]
  },
  {
   "cell_type": "markdown",
   "id": "42d48666-b003-4d6a-a0e6-3e935ac3b2b0",
   "metadata": {},
   "source": [
    "<h2>Maak een model</h2>"
   ]
  },
  {
   "cell_type": "markdown",
   "id": "6fdfd7bb-8e13-4ccd-ac89-de74b66a699f",
   "metadata": {},
   "source": [
    "<h3>Definieer de netwerktopologie</h3>"
   ]
  },
  {
   "cell_type": "markdown",
   "id": "d950cdba-ba82-4025-8644-8cb2eae14f48",
   "metadata": {},
   "source": [
    "<h3>Exercise 1</h3>\n",
    "<p>\n",
    "    Vul de netwerktopologie tot een bruikbaar Neural Netwerk onstaat.\n",
    "</p>"
   ]
  },
  {
   "cell_type": "code",
   "execution_count": null,
   "id": "895bf1de-376d-4c3c-b065-4db6d8cc55a0",
   "metadata": {},
   "outputs": [],
   "source": [
    "model =  keras.models.Sequential()\n",
    "model.add(layers.Conv2D(32, (3, 3), activation='relu', input_shape=(64, 64, 3)))\n",
    "model.add(layers.MaxPooling2D((2, 2)))\n",
    "model.add(layers.Conv2D(64, (3, 3), activation='relu'))\n",
    "model.add(layers.MaxPooling2D((2, 2)))\n",
    "model.add(layers.Conv2D(64, (3, 3), activation='relu'))\n",
    "\n",
    "\n",
    "model.add(layers.Flatten())\n",
    "model.add(layers.Dense(64, activation='relu'))\n",
    "model.add(layers.Dense(10))\n",
    "\n",
    "\n",
    "\n",
    "\n",
    "\n"
   ]
  },
  {
   "cell_type": "markdown",
   "id": "378fefb6-5622-4322-a178-6f7e6a7153aa",
   "metadata": {},
   "source": [
    "<h3>Definieer de trainparameters</h3>"
   ]
  },
  {
   "cell_type": "code",
   "execution_count": null,
   "id": "1dc3d53f-8842-474d-b62b-f003d4250c61",
   "metadata": {},
   "outputs": [],
   "source": []
  },
  {
   "cell_type": "code",
   "execution_count": null,
   "id": "66f6e049-28cc-4192-94be-316166183a44",
   "metadata": {},
   "outputs": [],
   "source": [
    "lossFunction = keras.losses.SparseCategoricalCrossentropy(from_logits=True)\n",
    "gdAlgorithm = keras.optimizers.Adam(learning_rate=0.001)\n",
    "nrOfEpochs = 5"
   ]
  },
  {
   "cell_type": "markdown",
   "id": "a68273b3-aa36-42d7-b883-1e0d7b89f21b",
   "metadata": {},
   "source": [
    "<h3>Train het model</h3>"
   ]
  },
  {
   "cell_type": "code",
   "execution_count": null,
   "id": "a3295916-8bbe-4d40-a30a-71e90669cb2a",
   "metadata": {},
   "outputs": [],
   "source": [
    "print(len(imageObjects))\n",
    "print(len(trainLabels))\n",
    "model.compile(optimizer=gdAlgorithm, loss=lossFunction, metrics=\"accuracy\")\n",
    "history = model.fit(trainSet, trainLabels, epochs=nrOfEpochs, batch_size=64, verbose=2)\n"
   ]
  },
  {
   "cell_type": "code",
   "execution_count": null,
   "id": "635dee32-6ac3-4f70-9df2-9c1b858552db",
   "metadata": {},
   "outputs": [],
   "source": []
  },
  {
   "cell_type": "markdown",
   "id": "8f22414f-dd7e-408a-8834-b362bda15468",
   "metadata": {},
   "source": [
    "<h3>Test het model</h3>"
   ]
  },
  {
   "cell_type": "markdown",
   "id": "f566e5c6-6a10-452a-bfdc-64b27963f1c4",
   "metadata": {},
   "source": [
    "<h3>Exercise 2</h3>\n",
    "<p>\n",
    "    Test het Neural Netwerk met de testset en laat zien of het in staat is de juiste class te vinden.\n",
    "</p>"
   ]
  },
  {
   "cell_type": "code",
   "execution_count": null,
   "id": "94176cc7-4894-4f55-a9c0-0d0ea807b65c",
   "metadata": {},
   "outputs": [],
   "source": [
    "history_test = model.fit(testSet, testLabels, epochs=nrOfEpochs, batch_size=64, verbose=2)\n"
   ]
  },
  {
   "cell_type": "code",
   "execution_count": null,
   "id": "278627e9-2ae7-4643-92a8-4f19b773ab1b",
   "metadata": {},
   "outputs": [],
   "source": [
    "\n",
    "plt.plot(history.history['accuracy'], label='accuracy')\n",
    "plt.plot(history_test.history['accuracy'], label = 'accuracy')\n",
    "plt.xlabel('Epoch')\n",
    "plt.ylabel('Accuracy')\n",
    "plt.ylim([0.5, 1])\n",
    "plt.legend(loc='lower right')\n",
    "\n",
    "test_loss, test_acc = model.evaluate(testSet,  testLabels, verbose=2)\n",
    "\n",
    "example_batch = trainSet[:10]\n",
    "example_result = model.predict(example_batch)\n",
    "example_result\n",
    "\n",
    "\n"
   ]
  },
  {
   "cell_type": "code",
   "execution_count": null,
   "id": "2794ddce-261c-468e-82d1-9d83a1b1a83d",
   "metadata": {},
   "outputs": [],
   "source": [
    "\n"
   ]
  },
  {
   "cell_type": "code",
   "execution_count": null,
   "id": "81293440-3d0a-4341-8fa4-5a758eae71da",
   "metadata": {},
   "outputs": [],
   "source": []
  }
 ],
 "metadata": {
  "kernelspec": {
   "display_name": "Python 3 (ipykernel)",
   "language": "python",
   "name": "python3"
  },
  "language_info": {
   "codemirror_mode": {
    "name": "ipython",
    "version": 3
   },
   "file_extension": ".py",
   "mimetype": "text/x-python",
   "name": "python",
   "nbconvert_exporter": "python",
   "pygments_lexer": "ipython3",
   "version": "3.10.6"
  },
  "vscode": {
   "interpreter": {
    "hash": "76e7f1907efa986fcbe74438dde075471fe259e93cf5f18558503f48df233033"
   }
  }
 },
 "nbformat": 4,
 "nbformat_minor": 5
}
