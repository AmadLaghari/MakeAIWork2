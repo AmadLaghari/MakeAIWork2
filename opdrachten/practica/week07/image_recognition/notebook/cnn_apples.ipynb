{
 "cells": [
  {
   "cell_type": "markdown",
   "id": "818a1af7-9708-4bae-92fe-fa36b678d2be",
   "metadata": {},
   "source": [
    "<a href=\"https://it-omscholing.nl/locaties/hogeschool-rotterdam/\">\n",
    "<div>\n",
    "<a><img src='pics/banner.PNG'/></a>\n",
    "</div>\n",
    "<div>\n",
    "<a href=''><img src='pics/miw.PNG'/></a>\n",
    "<em>Author: Jeroen Boogaard</em>\n",
    "</div>\n",
    "</a>"
   ]
  },
  {
   "cell_type": "markdown",
   "id": "a9ff9227-1da2-489e-a4b4-d661d44ce68f",
   "metadata": {},
   "source": [
    "<h1>Practicum Computer Vision</h1>"
   ]
  },
  {
   "cell_type": "markdown",
   "id": "7d395107",
   "metadata": {},
   "source": [
    "<h2>Imports<h2>"
   ]
  },
  {
   "cell_type": "code",
   "execution_count": 110,
   "id": "84d02a33",
   "metadata": {},
   "outputs": [],
   "source": [
    "from PIL import Image\n",
    "import io\n",
    "import matplotlib.pyplot as plt\n",
    "import matplotlib.image as mpimg\n",
    "import numpy as np\n",
    "import os\n",
    "from sklearn.model_selection import train_test_split\n",
    "import random\n",
    "import requests\n",
    "import tensorflow as tf\n",
    "import tensorflow.keras as keras\n",
    "from tensorflow.keras import layers\n",
    "import zipfile"
   ]
  },
  {
   "cell_type": "markdown",
   "id": "72042f70-16c5-4a1a-a753-fc468bbe1a6a",
   "metadata": {},
   "source": [
    "**Gebruik een <i>environment variable</i> voor het instellen van het logleven van TensorFlow**"
   ]
  },
  {
   "cell_type": "code",
   "execution_count": 111,
   "id": "86e675b9-244c-45c8-9c91-79146b304a02",
   "metadata": {},
   "outputs": [],
   "source": [
    "os.environ['TF_CPP_MIN_LEVEL'] = '2'"
   ]
  },
  {
   "cell_type": "markdown",
   "id": "51aae3d0-f644-4552-870c-029b41f24559",
   "metadata": {},
   "source": [
    "<h2>Data Collection</h2>"
   ]
  },
  {
   "cell_type": "markdown",
   "id": "170099a3-4baf-4d2b-9ee2-ba934e368432",
   "metadata": {},
   "source": [
    "<h3>Data downloaden</h3>"
   ]
  },
  {
   "cell_type": "code",
   "execution_count": 112,
   "id": "57eb7d80-bfc1-4774-a635-fc28b2742aa0",
   "metadata": {},
   "outputs": [],
   "source": [
    "# dataUrl = requests.get(\"http://madm.dfki.de/files/sentinel/EuroSAT.zip\")\n",
    "# dataFile = zipfile.ZipFile(io.BytesIO(dataUrl.content))"
   ]
  },
  {
   "cell_type": "code",
   "execution_count": 114,
   "id": "c652271d-7f13-493e-a14e-d70a21e2de39",
   "metadata": {},
   "outputs": [
    {
     "name": "stdout",
     "output_type": "stream",
     "text": [
      "Edgefiles  ['Appels/Normal_Apple\\\\1.jpg', 'Appels/Normal_Apple\\\\AnyConv.com__download (1).jpg', 'Appels/Normal_Apple\\\\AnyConv.com__download (10).jpg', 'Appels/Normal_Apple\\\\AnyConv.com__download (11).jpg', 'Appels/Normal_Apple\\\\AnyConv.com__download (12).jpg', 'Appels/Normal_Apple\\\\AnyConv.com__download (13).jpg', 'Appels/Normal_Apple\\\\AnyConv.com__download (14).jpg', 'Appels/Normal_Apple\\\\AnyConv.com__download (15).jpg', 'Appels/Normal_Apple\\\\AnyConv.com__download (16).jpg', 'Appels/Normal_Apple\\\\AnyConv.com__download (17).jpg', 'Appels/Normal_Apple\\\\AnyConv.com__download (18).jpg', 'Appels/Normal_Apple\\\\AnyConv.com__download (19).jpg', 'Appels/Normal_Apple\\\\AnyConv.com__download (2)(1).jpg', 'Appels/Normal_Apple\\\\AnyConv.com__download (2)(2).jpg', 'Appels/Normal_Apple\\\\AnyConv.com__download (2)(3).jpg', 'Appels/Normal_Apple\\\\AnyConv.com__download (2).jpg', 'Appels/Normal_Apple\\\\AnyConv.com__download (20).jpg', 'Appels/Normal_Apple\\\\AnyConv.com__download (5).jpg', 'Appels/Normal_Apple\\\\AnyConv.com__download (6).jpg', 'Appels/Normal_Apple\\\\AnyConv.com__download (7).jpg', 'Appels/Normal_Apple\\\\AnyConv.com__download (8).jpg', 'Appels/Normal_Apple\\\\AnyConv.com__download (9).jpg', 'Appels/Normal_Apple\\\\AnyConv.com__download.jpg', 'Appels/Normal_Apple\\\\AnyConv.com__images (1).jpg', 'Appels/Normal_Apple\\\\AnyConv.com__images (10).jpg', 'Appels/Normal_Apple\\\\AnyConv.com__images (11).jpg', 'Appels/Normal_Apple\\\\AnyConv.com__images (12).jpg', 'Appels/Normal_Apple\\\\AnyConv.com__images (13).jpg', 'Appels/Normal_Apple\\\\AnyConv.com__images (15).jpg', 'Appels/Normal_Apple\\\\AnyConv.com__images (16).jpg', 'Appels/Normal_Apple\\\\AnyConv.com__images (17).jpg', 'Appels/Normal_Apple\\\\AnyConv.com__images (18).jpg', 'Appels/Normal_Apple\\\\AnyConv.com__images (19).jpg', 'Appels/Normal_Apple\\\\AnyConv.com__images (2).jpg', 'Appels/Normal_Apple\\\\AnyConv.com__images (20).jpg', 'Appels/Normal_Apple\\\\AnyConv.com__images (21).jpg', 'Appels/Normal_Apple\\\\AnyConv.com__images (22).jpg', 'Appels/Normal_Apple\\\\AnyConv.com__images (23).jpg', 'Appels/Normal_Apple\\\\AnyConv.com__images (24).jpg', 'Appels/Normal_Apple\\\\AnyConv.com__images (25).jpg', 'Appels/Normal_Apple\\\\AnyConv.com__images (26).jpg', 'Appels/Normal_Apple\\\\AnyConv.com__images (27).jpg', 'Appels/Normal_Apple\\\\AnyConv.com__images (28).jpg', 'Appels/Normal_Apple\\\\AnyConv.com__images (29).jpg', 'Appels/Normal_Apple\\\\AnyConv.com__images (3).jpg', 'Appels/Normal_Apple\\\\AnyConv.com__images (4)(1).jpg', 'Appels/Normal_Apple\\\\AnyConv.com__images (4).jpg', 'Appels/Normal_Apple\\\\AnyConv.com__images (5).jpg', 'Appels/Normal_Apple\\\\AnyConv.com__images (6).jpg', 'Appels/Normal_Apple\\\\AnyConv.com__images (7).jpg', 'Appels/Normal_Apple\\\\AnyConv.com__images (8).jpg', 'Appels/Normal_Apple\\\\AnyConv.com__images (9).jpg', 'Appels/Normal_Apple\\\\AnyConv.com__images.jpg', 'Appels/Normal_Apple\\\\apple-fruit-red-apple-cutting-board.jpg', 'Appels/Normal_Apple\\\\apple-green-apple-fruit.jpg', 'Appels/Normal_Apple\\\\apple-green-fruit.jpg', 'Appels/Normal_Apple\\\\apple-wallpaper-preview.jpg', 'Appels/Normal_Apple\\\\can-stock-photo_csp40371500.jpg', 'Appels/Normal_Apple\\\\can-stock-photo_csp77895376.jpg', 'Appels/Normal_Apple\\\\images (1).jpg', 'Appels/Normal_Apple\\\\images (11).jpg', 'Appels/Normal_Apple\\\\images (12).jpg', 'Appels/Normal_Apple\\\\images (15).jpg', 'Appels/Normal_Apple\\\\images (19).jpg', 'Appels/Normal_Apple\\\\images (2).jpg', 'Appels/Normal_Apple\\\\images (21).jpg', 'Appels/Normal_Apple\\\\images (8).jpg']\n"
     ]
    },
    {
     "ename": "ValueError",
     "evalue": "could not broadcast input array from shape (142,154,3) into shape (64,64,3)",
     "output_type": "error",
     "traceback": [
      "\u001b[1;31m---------------------------------------------------------------------------\u001b[0m",
      "\u001b[1;31mValueError\u001b[0m                                Traceback (most recent call last)",
      "Cell \u001b[1;32mIn [114], line 29\u001b[0m\n\u001b[0;32m     26\u001b[0m i \u001b[38;5;241m=\u001b[39m \u001b[38;5;241m0\u001b[39m\n\u001b[0;32m     28\u001b[0m \u001b[38;5;28;01mfor\u001b[39;00m pic \u001b[38;5;129;01min\u001b[39;00m edgeFiles:\n\u001b[1;32m---> 29\u001b[0m     \u001b[43mimageObjects\u001b[49m\u001b[43m[\u001b[49m\u001b[43mi\u001b[49m\u001b[43m]\u001b[49m \u001b[38;5;241m=\u001b[39m np\u001b[38;5;241m.\u001b[39masarray(Image\u001b[38;5;241m.\u001b[39mopen(pic))\u001b[38;5;241m.\u001b[39mastype(\u001b[38;5;124m'\u001b[39m\u001b[38;5;124muint8\u001b[39m\u001b[38;5;124m'\u001b[39m)\u001b[38;5;241m/\u001b[39m\u001b[38;5;241m255\u001b[39m\n\u001b[0;32m     30\u001b[0m     i \u001b[38;5;241m+\u001b[39m\u001b[38;5;241m=\u001b[39m \u001b[38;5;241m1\u001b[39m\n\u001b[0;32m     32\u001b[0m \u001b[38;5;28mprint\u001b[39m(imageObjects[\u001b[38;5;241m0\u001b[39m])\n",
      "\u001b[1;31mValueError\u001b[0m: could not broadcast input array from shape (142,154,3) into shape (64,64,3)"
     ]
    }
   ],
   "source": [
    "# get file names\n",
    "riverDirectory = 'Appels/Normal_Apple'\n",
    "edgeFiles = list()\n",
    " \n",
    "for filename in os.listdir(riverDirectory):\n",
    "    imgFile = os.path.join(riverDirectory, filename)\n",
    "    edgeFiles.append(imgFile)\n",
    "    \n",
    "\n",
    "# txtFiles = list()\n",
    "\n",
    "# for txtFile in dataFile.namelist():\n",
    "#     txtFiles.append(txtFile)\n",
    "#     # print(txtFile)\n",
    "\n",
    "edgeFiles = [img for img in edgeFiles if \".jpg\" in img]\n",
    "\n",
    "print(\"Edgefiles \", edgeFiles)    \n",
    "\n",
    "\n",
    "imageObjects = np.zeros([len(edgeFiles), 64, 64, 3])\n",
    "# print(imageObjects)\n",
    "\n",
    "\n",
    "\n",
    "i = 0\n",
    "\n",
    "for pic in edgeFiles:\n",
    "    imageObjects[i] = np.asarray(Image.open(pic)).astype('uint8')/255\n",
    "    i += 1\n",
    "    \n",
    "print(imageObjects[0])    "
   ]
  },
  {
   "cell_type": "markdown",
   "id": "c878858c-a5c8-4c52-b093-13b46ae78b7d",
   "metadata": {},
   "source": [
    "<h3>Data filteren</h3>"
   ]
  },
  {
   "cell_type": "code",
   "execution_count": null,
   "id": "984a8cee-ab24-4880-af6c-168f7de17a9c",
   "metadata": {},
   "outputs": [],
   "source": [
    "edgeFiles = [x for x in edgeFiles if \".jpg\" in x]"
   ]
  },
  {
   "cell_type": "markdown",
   "id": "ddfc7256-6b34-42c4-a97b-3f151a8ed0fa",
   "metadata": {},
   "source": [
    "<h3>Data inlezen</h3>"
   ]
  },
  {
   "cell_type": "code",
   "execution_count": null,
   "id": "eef4608d-3ea2-4e55-9b1f-d0d9906447b4",
   "metadata": {},
   "outputs": [],
   "source": []
  },
  {
   "cell_type": "markdown",
   "id": "abc16b74-8f84-4256-9012-1e05669f1f54",
   "metadata": {},
   "source": [
    "**Gebruik de bestandsnamen voor het verkrijgen van de labels**"
   ]
  },
  {
   "cell_type": "code",
   "execution_count": null,
   "id": "d7fb9377-3287-4aca-8539-9d564c3bd5c9",
   "metadata": {},
   "outputs": [],
   "source": [
    "# imageLabels = np.empty(len(txtFiles), dtype = 'S20')\n",
    "\n",
    "# i = 0\n",
    "\n",
    "# for label in txtFiles:\n",
    "#     txtFiles[i] = label.split('/')[1]\n",
    "#     i += 1\n",
    "    \n",
    "# print(txtFiles[1])    \n",
    "\n",
    "\n",
    "\n",
    "imageLabels = np.empty(len(edgeFiles), dtype = 'S20')\n",
    "\n",
    "i = 0\n",
    "\n",
    "# for label in edgeFiles:\n",
    "#     print(label)\n",
    "#     edgeFiles[i] = label.replace(\"\\\\\",\"/\").split('/')[2]\n",
    "#     i += 1\n",
    "\n",
    "    \n",
    "\n",
    "    \n",
    "\n",
    "labelNames, labelNumbers = np.unique(edgeFiles, return_inverse=True)\n",
    "# print(labelNames)\n",
    "labelDict = dict(zip(np.unique(labelNumbers), labelNames))\n",
    "# print(labelNames)\n",
    "\n",
    "#print(\"labelNumbers\", labelNumbers)\n",
    "#print(\"LabelNumbers Length\", len(labelNumbers))\n",
    "\n",
    "\n",
    "#print(\"imageObjects\", len(imageObjects))\n",
    "\n",
    "np.array(np.unique(labelNumbers, return_counts=True)).T"
   ]
  },
  {
   "cell_type": "code",
   "execution_count": null,
   "id": "6c6fdb90-bf3a-4569-a475-2e94b0c5bdd8",
   "metadata": {},
   "outputs": [],
   "source": [
    "# change them to integers in alphabetical order\n",
    "# labelNames, labelNumbers = np.unique(txtFiles, return_inverse=True)\n",
    "# labelDict = dict(zip(np.unique(labelNumbers), labelNames))\n",
    "# print(labelNames)\n",
    "# print(labelNumbers)\n",
    "\n",
    "# np.array(np.unique(labelNumbers, return_counts=True)).T"
   ]
  },
  {
   "cell_type": "markdown",
   "id": "9af14b2c-47b2-4256-9f22-715218d60b74",
   "metadata": {},
   "source": [
    "<h3>Data splitten</h3>"
   ]
  },
  {
   "cell_type": "code",
   "execution_count": null,
   "id": "ef3d2e75-c904-44f7-b764-618226c22dae",
   "metadata": {},
   "outputs": [],
   "source": [
    "trainSet, testSet, trainLabels, testLabels = train_test_split(imageObjects, labelNumbers, stratify = labelNumbers, train_size = 0.5, random_state=42)\n",
    "print(trainSet.shape)\n",
    "nrOfImages = len(trainSet)\n",
    "\n",
    "print (len(trainSet), len(testSet),len(trainLabels), len(testLabels))"
   ]
  },
  {
   "cell_type": "code",
   "execution_count": null,
   "id": "6a005769-3d25-4ab2-8c70-08a726f0bc23",
   "metadata": {},
   "outputs": [],
   "source": []
  },
  {
   "cell_type": "markdown",
   "id": "11669120-c3b7-4d62-8e61-e3858002d973",
   "metadata": {},
   "source": [
    "<h3>Data inspecteren</h3>"
   ]
  },
  {
   "cell_type": "code",
   "execution_count": 115,
   "id": "c5e3ce52-c40f-4225-8925-4f56df9b2cb5",
   "metadata": {},
   "outputs": [],
   "source": [
    "def inspectData():\n",
    "    \n",
    "    plt.figure(figsize=(10,10))\n",
    "    \n",
    "    for i in range(16):\n",
    "        plt.subplot(4, 4, i+1)\n",
    "        plt.xticks([])\n",
    "        plt.yticks([])\n",
    "        plt.grid(False)\n",
    "        number = i\n",
    "        plt.imshow(trainSet[number])\n",
    "        plt.xlabel(labelNames[trainLabels[number]]) \n",
    "    \n",
    "    plt.show()"
   ]
  },
  {
   "cell_type": "code",
   "execution_count": 116,
   "id": "4618bb10-dbf4-4167-afd8-581c4e10f613",
   "metadata": {},
   "outputs": [
    {
     "ename": "NameError",
     "evalue": "name 'trainSet' is not defined",
     "output_type": "error",
     "traceback": [
      "\u001b[1;31m---------------------------------------------------------------------------\u001b[0m",
      "\u001b[1;31mNameError\u001b[0m                                 Traceback (most recent call last)",
      "Cell \u001b[1;32mIn [116], line 1\u001b[0m\n\u001b[1;32m----> 1\u001b[0m \u001b[43minspectData\u001b[49m\u001b[43m(\u001b[49m\u001b[43m)\u001b[49m\n",
      "Cell \u001b[1;32mIn [115], line 11\u001b[0m, in \u001b[0;36minspectData\u001b[1;34m()\u001b[0m\n\u001b[0;32m      9\u001b[0m     plt\u001b[38;5;241m.\u001b[39mgrid(\u001b[38;5;28;01mFalse\u001b[39;00m)\n\u001b[0;32m     10\u001b[0m     number \u001b[38;5;241m=\u001b[39m i\n\u001b[1;32m---> 11\u001b[0m     plt\u001b[38;5;241m.\u001b[39mimshow(\u001b[43mtrainSet\u001b[49m[number])\n\u001b[0;32m     12\u001b[0m     plt\u001b[38;5;241m.\u001b[39mxlabel(labelNames[trainLabels[number]]) \n\u001b[0;32m     14\u001b[0m plt\u001b[38;5;241m.\u001b[39mshow()\n",
      "\u001b[1;31mNameError\u001b[0m: name 'trainSet' is not defined"
     ]
    },
    {
     "data": {
      "image/png": "[encoded data removed]",
      "text/plain": [
       "<Figure size 1000x1000 with 1 Axes>"
      ]
     },
     "metadata": {},
     "output_type": "display_data"
    }
   ],
   "source": [
    "inspectData()    "
   ]
  },
  {
   "cell_type": "markdown",
   "id": "42d48666-b003-4d6a-a0e6-3e935ac3b2b0",
   "metadata": {},
   "source": [
    "<h2>Maak een model</h2>"
   ]
  },
  {
   "cell_type": "markdown",
   "id": "6fdfd7bb-8e13-4ccd-ac89-de74b66a699f",
   "metadata": {},
   "source": [
    "<h3>Definieer de netwerktopologie</h3>"
   ]
  },
  {
   "cell_type": "markdown",
   "id": "d950cdba-ba82-4025-8644-8cb2eae14f48",
   "metadata": {},
   "source": [
    "<h3>Exercise 1</h3>\n",
    "<p>\n",
    "    Vul de netwerktopologie tot een bruikbaar Neural Netwerk onstaat.\n",
    "</p>"
   ]
  },
  {
   "cell_type": "code",
   "execution_count": null,
   "id": "895bf1de-376d-4c3c-b065-4db6d8cc55a0",
   "metadata": {},
   "outputs": [],
   "source": [
    "model =  keras.models.Sequential()\n",
    "model.add(layers.Conv2D(32, (3, 3), activation='relu', input_shape=(64, 64, 3)))\n",
    "model.add(layers.MaxPooling2D((2, 2)))\n",
    "model.add(layers.Conv2D(64, (3, 3), activation='relu'))\n",
    "model.add(layers.MaxPooling2D((2, 2)))\n",
    "model.add(layers.Conv2D(64, (3, 3), activation='relu'))\n",
    "\n",
    "\n",
    "model.add(layers.Flatten())\n",
    "model.add(layers.Dense(64, activation='relu'))\n",
    "model.add(layers.Dense(10))\n",
    "\n",
    "\n",
    "\n",
    "\n",
    "\n"
   ]
  },
  {
   "cell_type": "markdown",
   "id": "378fefb6-5622-4322-a178-6f7e6a7153aa",
   "metadata": {},
   "source": [
    "<h3>Definieer de trainparameters</h3>"
   ]
  },
  {
   "cell_type": "code",
   "execution_count": null,
   "id": "1dc3d53f-8842-474d-b62b-f003d4250c61",
   "metadata": {},
   "outputs": [],
   "source": []
  },
  {
   "cell_type": "code",
   "execution_count": null,
   "id": "66f6e049-28cc-4192-94be-316166183a44",
   "metadata": {},
   "outputs": [],
   "source": [
    "lossFunction = keras.losses.SparseCategoricalCrossentropy(from_logits=True)\n",
    "gdAlgorithm = keras.optimizers.Adam(learning_rate=0.001)\n",
    "nrOfEpochs = 5"
   ]
  },
  {
   "cell_type": "markdown",
   "id": "a68273b3-aa36-42d7-b883-1e0d7b89f21b",
   "metadata": {},
   "source": [
    "<h3>Train het model</h3>"
   ]
  },
  {
   "cell_type": "code",
   "execution_count": null,
   "id": "a3295916-8bbe-4d40-a30a-71e90669cb2a",
   "metadata": {},
   "outputs": [],
   "source": [
    "print(len(imageObjects))\n",
    "print(len(trainLabels))\n",
    "model.compile(optimizer=gdAlgorithm, loss=lossFunction, metrics=\"accuracy\")\n",
    "history = model.fit(trainSet, trainLabels, epochs=nrOfEpochs, batch_size=64, verbose=2)\n"
   ]
  },
  {
   "cell_type": "code",
   "execution_count": null,
   "id": "635dee32-6ac3-4f70-9df2-9c1b858552db",
   "metadata": {},
   "outputs": [],
   "source": []
  },
  {
   "cell_type": "markdown",
   "id": "8f22414f-dd7e-408a-8834-b362bda15468",
   "metadata": {},
   "source": [
    "<h3>Test het model</h3>"
   ]
  },
  {
   "cell_type": "markdown",
   "id": "f566e5c6-6a10-452a-bfdc-64b27963f1c4",
   "metadata": {},
   "source": [
    "<h3>Exercise 2</h3>\n",
    "<p>\n",
    "    Test het Neural Netwerk met de testset en laat zien of het in staat is de juiste class te vinden.\n",
    "</p>"
   ]
  },
  {
   "cell_type": "code",
   "execution_count": null,
   "id": "94176cc7-4894-4f55-a9c0-0d0ea807b65c",
   "metadata": {},
   "outputs": [],
   "source": [
    "history_test = model.fit(testSet, testLabels, epochs=nrOfEpochs, batch_size=64, verbose=2)\n"
   ]
  },
  {
   "cell_type": "code",
   "execution_count": null,
   "id": "278627e9-2ae7-4643-92a8-4f19b773ab1b",
   "metadata": {},
   "outputs": [],
   "source": [
    "\n",
    "plt.plot(history.history['accuracy'], label='accuracy')\n",
    "plt.plot(history_test.history['accuracy'], label = 'accuracy')\n",
    "plt.xlabel('Epoch')\n",
    "plt.ylabel('Accuracy')\n",
    "plt.ylim([0.5, 1])\n",
    "plt.legend(loc='lower right')\n",
    "\n",
    "test_loss, test_acc = model.evaluate(testSet,  testLabels, verbose=2)\n",
    "\n",
    "example_batch = trainSet[:10]\n",
    "example_result = model.predict(example_batch)\n",
    "example_result\n",
    "\n",
    "\n"
   ]
  },
  {
   "cell_type": "code",
   "execution_count": null,
   "id": "2794ddce-261c-468e-82d1-9d83a1b1a83d",
   "metadata": {},
   "outputs": [],
   "source": [
    "pred = model.predict(testSet, batch_size=16)\n",
    "pred = np.argmax(pred, axis=-1)\n",
    "print(pred)\n",
    "\n",
    "labels = np.argmax(testLabels,axis=-1)\n",
    "print(labels)\n",
    "conf_matrix = tf.math.confusion_matrix(labels=testLabels, predictions=pred)\n",
    "\n",
    "print(conf_matrix)"
   ]
  },
  {
   "cell_type": "code",
   "execution_count": null,
   "id": "81293440-3d0a-4341-8fa4-5a758eae71da",
   "metadata": {},
   "outputs": [],
   "source": [
    "import matplotlib.pyplot as plt\n",
    "import numpy\n",
    "from sklearn import metrics\n",
    "\n",
    "actual = testLabels\n",
    "confusion_matrix = metrics.confusion_matrix(actual, pred)\n",
    "cm_display = metrics.ConfusionMatrixDisplay(confusion_matrix = confusion_matrix, display_labels = [False, True])\n",
    "\n",
    "cm_display.plot()\n",
    "\n",
    "plt.show()\n"
   ]
  },
  {
   "cell_type": "code",
   "execution_count": null,
   "id": "67f6531c-210d-4a69-ae72-e55bed552baf",
   "metadata": {},
   "outputs": [],
   "source": []
  }
 ],
 "metadata": {
  "kernelspec": {
   "display_name": "Python 3 (ipykernel)",
   "language": "python",
   "name": "python3"
  },
  "language_info": {
   "codemirror_mode": {
    "name": "ipython",
    "version": 3
   },
   "file_extension": ".py",
   "mimetype": "text/x-python",
   "name": "python",
   "nbconvert_exporter": "python",
   "pygments_lexer": "ipython3",
   "version": "3.10.6"
  },
  "vscode": {
   "interpreter": {
    "hash": "76e7f1907efa986fcbe74438dde075471fe259e93cf5f18558503f48df233033"
   }
  }
 },
 "nbformat": 4,
 "nbformat_minor": 5
}
